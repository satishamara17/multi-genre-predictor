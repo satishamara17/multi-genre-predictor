{
 "cells": [
  {
   "cell_type": "code",
   "execution_count": null,
   "id": "a2ee0a54",
   "metadata": {},
   "outputs": [],
   "source": [
    "import os\n",
    "import pandas as pd\n",
    "import requests\n",
    "from concurrent.futures import ThreadPoolExecutor, as_completed\n",
    "from tqdm import tqdm\n",
    "\n",
    "\n",
    "csv_file   = 'filtered_imdb_with_posters.csv' \n",
    "output_folder = 'C:/Users/satis/Downloads/datasets/posters'\n",
    "API_KEY    = 'YOUR TMDB API KEY'\n",
    "img_size = 'w500'\n",
    "\n",
    "def download_poster(movie_id: str, poster_path: str):\n",
    "    \"\"\"\n",
    "    Downloads a single poster to OUTPUT_DIR/<movie_id>.jpg\n",
    "    \"\"\"\n",
    "    if not isinstance(poster_path, str) or not poster_path.strip():\n",
    "        return\n",
    "\n",
    "    url = f\"https://image.tmdb.org/t/p/{img_size}{poster_path}\"\n",
    "    params = {'api_key': API_KEY}\n",
    "    try:\n",
    "        resp = requests.get(url, params=params, stream=True, timeout=30)\n",
    "        resp.raise_for_status()\n",
    "    except Exception as e:\n",
    "        print(f\"[ERROR] {movie_id}: {e}\")\n",
    "        return\n",
    "\n",
    "    out_path = os.path.join(output_folder, f\"{movie_id}.jpg\")\n",
    "    with open(out_path, 'wb') as f:\n",
    "        for chunk in resp.iter_content(chunk_size=1024):\n",
    "            f.write(chunk)\n",
    "\n",
    "\n",
    "os.makedirs(output_folder, exist_ok=True)\n",
    "df = pd.read_csv(csv_file)\n",
    "with ThreadPoolExecutor(max_workers=9) as pool:\n",
    "    futures = [\n",
    "        pool.submit(download_poster, row['movie_id'], row['img'])\n",
    "        for _, row in df.iterrows()\n",
    "    ]\n",
    "    for _ in tqdm(as_completed(futures),\n",
    "                    total=len(futures),\n",
    "                    desc=\"Downloading posters\"):\n",
    "        pass\n"
   ]
  }
 ],
 "metadata": {
  "kernelspec": {
   "display_name": "cuda_torch",
   "language": "python",
   "name": "python3"
  },
  "language_info": {
   "codemirror_mode": {
    "name": "ipython",
    "version": 3
   },
   "file_extension": ".py",
   "mimetype": "text/x-python",
   "name": "python",
   "nbconvert_exporter": "python",
   "pygments_lexer": "ipython3",
   "version": "3.9.21"
  }
 },
 "nbformat": 4,
 "nbformat_minor": 5
}
