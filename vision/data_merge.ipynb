{
 "cells": [
  {
   "cell_type": "code",
   "execution_count": 1,
   "id": "20f6625c",
   "metadata": {},
   "outputs": [],
   "source": [
    "import pandas as pd\n",
    "import numpy as np\n",
    "import ast \n",
    "import pandas as pd\n",
    "import os\n",
    "import shutil\n",
    "from collections import defaultdict\n",
    "from concurrent.futures import ThreadPoolExecutor, as_completed\n",
    "from tqdm import tqdm\n",
    "import requests"
   ]
  },
  {
   "cell_type": "code",
   "execution_count": 3,
   "id": "9033cb5d",
   "metadata": {},
   "outputs": [],
   "source": [
    "from collections import Counter\n",
    "\n",
    "def count_genres(df, genre_col='genres'):\n",
    "    genre_counter = Counter()\n",
    "    \n",
    "    for genre_string in df[genre_col]:\n",
    "        if isinstance(genre_string, str):\n",
    "            genres = genre_string.split('|')\n",
    "        else:\n",
    "            genres = genre_string  # Already a list\n",
    "        genre_counter.update(genres)\n",
    "    \n",
    "    return genre_counter\n"
   ]
  },
  {
   "cell_type": "code",
   "execution_count": null,
   "id": "1628b54b",
   "metadata": {},
   "outputs": [
    {
     "name": "stdout",
     "output_type": "stream",
     "text": [
      "after filtering:  7000\n",
      "✅ Done. Saved 7000 datapoints to filtered_dataset.csv.\n"
     ]
    }
   ],
   "source": [
    "\n",
    "TMDB_API_KEY = 'bf4cf184995f9d9c0fe2120c2f2113d2'  # Get it from http://www.omdbapi.com/apikey.aspx\n",
    "\n",
    "def fetch_plot_from_tmdb(imdb_id):\n",
    "    try:\n",
    "        # Step 1: Get TMDB movie ID\n",
    "        find_url = f\"https://api.themoviedb.org/3/find/{imdb_id}?api_key={TMDB_API_KEY}&external_source=imdb_id\"\n",
    "        find_resp = requests.get(find_url)\n",
    "        if find_resp.status_code != 200:\n",
    "            return \"\"\n",
    "        movie_results = find_resp.json().get('movie_results', [])\n",
    "        if not movie_results:\n",
    "            return \"\"\n",
    "        tmdb_id = movie_results[0]['id']\n",
    "\n",
    "        # Step 2: Get movie details (plot)\n",
    "        movie_url = f\"https://api.themoviedb.org/3/movie/{tmdb_id}?api_key={TMDB_API_KEY}&language=en-US\"\n",
    "        movie_resp = requests.get(movie_url)\n",
    "        if movie_resp.status_code != 200:\n",
    "            return \"\"\n",
    "        overview = movie_resp.json().get(\"overview\", \"\")\n",
    "        return overview.strip()\n",
    "    except Exception as e:\n",
    "        print(f\"Error fetching {imdb_id}: {e}\")\n",
    "        return \"\"\n",
    "# --- Configuration ---\n",
    "EXCLUSIVE_GENRES = {'Action', 'Comedy', 'Romance', 'Adventure', 'Horror', 'Thriller', 'Crime', 'Sci-Fi', 'Drama'}\n",
    "MAX_GENRE_COUNT = 3500\n",
    "INPUT_CSV = 'tmdb_cleaned.csv'\n",
    "POSTER_DIR = 'C:/Users/satis/Downloads/datasets/510_project_dataset/tmdb'\n",
    "NEW_POSTER_DIR = 'C:/Users/satis/Downloads/datasets/510_project_dataset/final_posters'\n",
    "os.makedirs(NEW_POSTER_DIR, exist_ok=True)\n",
    "\n",
    "# --- IMDbPY Setup ---\n",
    "ia = IMDb()\n",
    "\n",
    "# --- Load Dataset ---\n",
    "df = pd.read_csv(INPUT_CSV)\n",
    "df['genres'] = df['genres'].apply(ast.literal_eval)\n",
    "\n",
    "# --- Helpers ---\n",
    "genre_counter = defaultdict(int)\n",
    "existing_imdb_ids = set()\n",
    "final_rows = []\n",
    "\n",
    "# --- Step 1: Pre-filter rows (no plot fetching yet) ---\n",
    "candidates = []\n",
    "for _, row in df.iterrows():\n",
    "    imdb_id = row['imdb_id']\n",
    "    movie_id = row['movie_id']\n",
    "    genres = set(row['genres'])\n",
    "\n",
    "    if imdb_id in existing_imdb_ids:\n",
    "        continue\n",
    "    if not genres.issubset(EXCLUSIVE_GENRES):\n",
    "        continue\n",
    "    if any(genre_counter[g] >= MAX_GENRE_COUNT for g in genres):\n",
    "        continue\n",
    "\n",
    "    poster_path = os.path.join(POSTER_DIR, f\"{movie_id}.jpg\")\n",
    "    if not os.path.isfile(poster_path):\n",
    "        continue\n",
    "\n",
    "    candidates.append((imdb_id, movie_id, genres))\n",
    "print(\"after filtering: \", len(candidates))\n",
    "# --- Step 2: Fetch plots in parallel ---\n",
    "def fetch_valid_plot(args):\n",
    "    imdb_id, movie_id, genres = args\n",
    "    plot = fetch_plot_from_tmdb(imdb_id)\n",
    "    if plot:\n",
    "        return imdb_id, movie_id, genres, plot\n",
    "    return None\n",
    "\n",
    "with ThreadPoolExecutor(max_workers=10) as executor:\n",
    "    futures = [executor.submit(fetch_valid_plot, item) for item in candidates]\n",
    "    for future in as_completed(futures):\n",
    "        result = future.result()\n",
    "        if result:\n",
    "            imdb_id, movie_id, genres, plot = result\n",
    "\n",
    "            # Check genre limits again to be safe due to parallelism\n",
    "            if any(genre_counter[g] >= MAX_GENRE_COUNT for g in genres):\n",
    "                continue\n",
    "\n",
    "            # Copy poster\n",
    "            src = os.path.join(POSTER_DIR, f\"{movie_id}.jpg\")\n",
    "            dst = os.path.join(NEW_POSTER_DIR, f\"{imdb_id}.jpg\")\n",
    "            shutil.copyfile(src, dst)\n",
    "\n",
    "            for g in genres:\n",
    "                genre_counter[g] += 1\n",
    "\n",
    "            final_rows.append({\n",
    "                'imdb_id': imdb_id,\n",
    "                'plot': plot,\n",
    "                'genres': '|'.join(genres)\n",
    "            })\n",
    "            existing_imdb_ids.add(imdb_id)\n",
    "\n",
    "# --- Step 3: Save final dataset ---\n",
    "final_df = pd.DataFrame(final_rows)\n",
    "final_df.to_csv('filtered_dataset.csv', index=False)\n",
    "\n"
   ]
  },
  {
   "cell_type": "code",
   "execution_count": 65,
   "id": "0aec6f84",
   "metadata": {},
   "outputs": [
    {
     "name": "stdout",
     "output_type": "stream",
     "text": [
      "Found 393 candidates from df2.\n"
     ]
    }
   ],
   "source": [
    "\n",
    "df2 = pd.read_csv(\"kaggle_cleaned.csv\", encoding='ISO-8859-1')\n",
    "df2['genres'] = df2['genres'].apply(ast.literal_eval)\n",
    "\n",
    "additional_rows = []\n",
    "new_candidates = []\n",
    "\n",
    "for _, row in df2.iterrows():\n",
    "    imdb_id = row['imdbId']\n",
    "    movie_id = row['posterId']\n",
    "    genres = set(row['genres'])\n",
    "\n",
    "    if imdb_id in existing_imdb_ids:\n",
    "        continue\n",
    "    if not genres.issubset(EXCLUSIVE_GENRES):\n",
    "        continue\n",
    "\n",
    "    # Check if at least one genre still needs more datapoints\n",
    "    if not any(genre_counter[g] < MAX_GENRE_COUNT for g in genres):\n",
    "        continue\n",
    "\n",
    "    poster_path = os.path.join(POSTER_DIR, f\"{movie_id}.jpg\")\n",
    "    if not os.path.isfile(poster_path):\n",
    "        continue\n",
    "\n",
    "    new_candidates.append((imdb_id, movie_id, genres))\n",
    "\n",
    "print(f\"Found {len(new_candidates)} candidates from df2.\")\n",
    "\n",
    "def fetch_valid_plot_tmdb_df2(args):\n",
    "    imdb_id, movie_id, genres = args\n",
    "    plot = fetch_plot_from_tmdb(imdb_id)\n",
    "    if plot:\n",
    "        return imdb_id, movie_id, genres, plot\n",
    "    return None\n",
    "\n",
    "with ThreadPoolExecutor(max_workers=10) as executor:\n",
    "    futures = [executor.submit(fetch_valid_plot_tmdb_df2, item) for item in new_candidates]\n",
    "    for future in as_completed(futures):\n",
    "        result = future.result()\n",
    "        if result:\n",
    "            imdb_id, movie_id, genres, plot = result\n",
    "\n",
    "            if imdb_id in existing_imdb_ids:\n",
    "                continue\n",
    "\n",
    "            # Skip if it will exceed ALL genres (we need at least one still under MAX)\n",
    "            if not any(genre_counter[g] < MAX_GENRE_COUNT for g in genres):\n",
    "                continue\n",
    "\n",
    "            # Copy poster\n",
    "            src = os.path.join(POSTER_DIR, f\"{movie_id}.jpg\")\n",
    "            dst = os.path.join(NEW_POSTER_DIR, f\"{imdb_id}.jpg\")\n",
    "            shutil.copyfile(src, dst)\n",
    "\n",
    "            # Add to dataset\n",
    "            final_rows.append({\n",
    "                'imdb_id': imdb_id,\n",
    "                'plot': plot,\n",
    "                'genres': '|'.join(genres)\n",
    "            })\n",
    "            existing_imdb_ids.add(imdb_id)\n",
    "\n",
    "            # Update only genres that are still under the limit\n",
    "            for g in genres:\n",
    "                if genre_counter[g] < MAX_GENRE_COUNT:\n",
    "                    genre_counter[g] += 1\n",
    "\n",
    "            # Stop early if all genres are now complete\n",
    "            if all(genre_counter[g] >= MAX_GENRE_COUNT for g in EXCLUSIVE_GENRES):\n",
    "                break\n",
    "\n",
    "\n"
   ]
  },
  {
   "cell_type": "code",
   "execution_count": 67,
   "id": "084390c2",
   "metadata": {},
   "outputs": [],
   "source": [
    "temp = genre_counter"
   ]
  },
  {
   "cell_type": "code",
   "execution_count": 68,
   "id": "ca62908a",
   "metadata": {},
   "outputs": [
    {
     "name": "stdout",
     "output_type": "stream",
     "text": [
      "Found 15754 candidates from df3 (poster will be downloaded).\n",
      "defaultdict(<class 'int'>, {'Comedy': 3500, 'Action': 3500, 'Thriller': 3500, 'Crime': 3500, 'Adventure': 3500, 'Drama': 3500, 'Sci-Fi': 3500, 'Horror': 3500, 'Romance': 3500})\n"
     ]
    },
    {
     "name": "stderr",
     "output_type": "stream",
     "text": [
      "Processing Movies: 100%|██████████| 15754/15754 [30:52<00:00,  8.50movie/s]\n"
     ]
    }
   ],
   "source": [
    "# --- Step 5: Load and process df3 which needs to fetch posters ---\n",
    "df3 = pd.read_csv('imdb_cleaned.csv')\n",
    "df3['genres'] = df3['genres'].apply(lambda x:x.split(\",\"))\n",
    "df3_candidates = []\n",
    "for _, row in df3.iterrows():\n",
    "    imdb_id = row['imdbId']\n",
    "    # movie_id = row['movie_id']\n",
    "    genres = set(row['genres'])\n",
    "\n",
    "    if imdb_id in existing_imdb_ids:\n",
    "        continue\n",
    "    if not genres.issubset(EXCLUSIVE_GENRES):\n",
    "        continue\n",
    "    if not any(genre_counter[g] < MAX_GENRE_COUNT for g in genres):\n",
    "        continue\n",
    "    for g in genres:\n",
    "        if genre_counter[g] < MAX_GENRE_COUNT:\n",
    "            genre_counter[g] += 1\n",
    "    dst_path = os.path.join(NEW_POSTER_DIR, f\"{imdb_id}.jpg\")\n",
    "    df3_candidates.append((imdb_id, None if os.path.isfile(dst_path) else \"DOWNLOAD\", genres))\n",
    "\n",
    "\n",
    "print(f\"Found {len(df3_candidates)} candidates from df3 (poster will be downloaded).\")\n",
    "print(genre_counter)\n",
    "def fetch_plot_and_poster_tmdb(args):\n",
    "    imdb_id, poster_flag, genres = args\n",
    "    try:\n",
    "        # Step 1: Get TMDB movie ID\n",
    "        find_url = f\"https://api.themoviedb.org/3/find/{imdb_id}?api_key={TMDB_API_KEY}&external_source=imdb_id\"\n",
    "        find_resp = requests.get(find_url)\n",
    "        if find_resp.status_code != 200:\n",
    "            return None\n",
    "        movie_results = find_resp.json().get('movie_results', [])\n",
    "        if not movie_results:\n",
    "            return None\n",
    "        movie_data = movie_results[0]\n",
    "        tmdb_id = movie_data['id']\n",
    "        poster_path = movie_data.get('poster_path', '')\n",
    "        if not poster_path:\n",
    "            return None\n",
    "\n",
    "        # Step 2: Get plot\n",
    "        movie_url = f\"https://api.themoviedb.org/3/movie/{tmdb_id}?api_key={TMDB_API_KEY}&language=en-US\"\n",
    "        movie_resp = requests.get(movie_url)\n",
    "        if movie_resp.status_code != 200:\n",
    "            return None\n",
    "        plot = movie_resp.json().get(\"overview\", \"\").strip()\n",
    "        if not plot:\n",
    "            return None\n",
    "\n",
    "        # Step 3: Download poster only if not already downloaded\n",
    "        dst = os.path.join(NEW_POSTER_DIR, f\"{imdb_id}.jpg\")\n",
    "        if poster_flag == \"DOWNLOAD\":\n",
    "            poster_url = f\"https://image.tmdb.org/t/p/w500{poster_path}\"\n",
    "            poster_response = requests.get(poster_url, stream=True)\n",
    "            if poster_response.status_code == 200:\n",
    "                with open(dst, 'wb') as out_file:\n",
    "                    shutil.copyfileobj(poster_response.raw, out_file)\n",
    "            else:\n",
    "                return None\n",
    "\n",
    "        return imdb_id, \"tmdb_\" + str(tmdb_id), genres, plot\n",
    "\n",
    "    except Exception as e:\n",
    "        print(f\"Error fetching {imdb_id} from df3: {e}\")\n",
    "        return None\n",
    "\n",
    "from tqdm import tqdm\n",
    "\n",
    "# Wrap futures in tqdm progress bar\n",
    "for item in tqdm(df3_candidates, desc=\"Processing Movies\", unit=\"movie\"):\n",
    "    result = fetch_plot_and_poster_tmdb(item)\n",
    "    # print(result)\n",
    "    if result:\n",
    "        imdb_id, movie_id, genres, plot = result\n",
    "\n",
    "        final_rows.append({\n",
    "            'imdb_id': imdb_id,\n",
    "            'plot': plot,\n",
    "            'genres': '|'.join(genres)\n",
    "        })\n",
    "    existing_imdb_ids.add(imdb_id)\n",
    "\n"
   ]
  },
  {
   "cell_type": "code",
   "execution_count": 69,
   "id": "2cbc44e5",
   "metadata": {},
   "outputs": [
    {
     "name": "stdout",
     "output_type": "stream",
     "text": [
      "✅ Final dataset saved with 13770 datapoints.\n"
     ]
    }
   ],
   "source": [
    "final_df = pd.DataFrame(final_rows)\n",
    "final_df.to_csv('filtered_dataset_final.csv', index=False)\n",
    "print(f\"✅ Final dataset saved with {len(final_df)} datapoints.\")\n"
   ]
  },
  {
   "cell_type": "code",
   "execution_count": 78,
   "id": "117fea8d",
   "metadata": {},
   "outputs": [],
   "source": [
    "cdf= pd.read_csv(\"filtered_dataset.csv\" , encoding = 'ISO-8859-1')\n",
    "cdf['genres']= cdf['genres'].apply(lambda x: str(x).split(\"|\"))\n",
    "genre_counter = count_genres(cdf, 'genres')"
   ]
  },
  {
   "cell_type": "code",
   "execution_count": 79,
   "id": "1e9ece49",
   "metadata": {},
   "outputs": [
    {
     "data": {
      "text/plain": [
       "Counter({'Drama': 3475,\n",
       "         'Comedy': 2382,\n",
       "         'Thriller': 2164,\n",
       "         'Action': 1857,\n",
       "         'Romance': 1450,\n",
       "         'Crime': 1325,\n",
       "         'Horror': 1094,\n",
       "         'Sci-Fi': 816,\n",
       "         'Adventure': 731,\n",
       "         'nan': 15})"
      ]
     },
     "execution_count": 79,
     "metadata": {},
     "output_type": "execute_result"
    }
   ],
   "source": [
    "genre_counter"
   ]
  },
  {
   "cell_type": "code",
   "execution_count": 73,
   "id": "99e8ddc2",
   "metadata": {},
   "outputs": [
    {
     "data": {
      "text/plain": [
       "13770"
      ]
     },
     "execution_count": 73,
     "metadata": {},
     "output_type": "execute_result"
    }
   ],
   "source": [
    "len(final_rows)"
   ]
  },
  {
   "cell_type": "code",
   "execution_count": 36,
   "id": "efe80b3a",
   "metadata": {},
   "outputs": [],
   "source": [
    "MAX_GENRE_COUNT = 3500"
   ]
  },
  {
   "cell_type": "code",
   "execution_count": 62,
   "id": "f5500360",
   "metadata": {},
   "outputs": [
    {
     "data": {
      "text/plain": [
       "13972"
      ]
     },
     "execution_count": 62,
     "metadata": {},
     "output_type": "execute_result"
    }
   ],
   "source": [
    "len(cdf)"
   ]
  },
  {
   "cell_type": "code",
   "execution_count": 75,
   "id": "7d412b4e",
   "metadata": {},
   "outputs": [
    {
     "data": {
      "text/plain": [
       "(13770, 3)"
      ]
     },
     "execution_count": 75,
     "metadata": {},
     "output_type": "execute_result"
    }
   ],
   "source": [
    "cdf.shape"
   ]
  },
  {
   "cell_type": "code",
   "execution_count": 76,
   "id": "f00b5cdd",
   "metadata": {},
   "outputs": [
    {
     "name": "stdout",
     "output_type": "stream",
     "text": [
      "defaultdict(<class 'int'>, {'Comedy': 3500, 'Action': 3500, 'Thriller': 3500, 'Crime': 3500, 'Adventure': 3500, 'Drama': 3500, 'Sci-Fi': 3500, 'Horror': 3500, 'Romance': 3500})\n"
     ]
    }
   ],
   "source": [
    "print(temp)"
   ]
  },
  {
   "cell_type": "code",
   "execution_count": 77,
   "id": "efe254e4",
   "metadata": {},
   "outputs": [
    {
     "data": {
      "text/plain": [
       "defaultdict(int,\n",
       "            {'Comedy': 3500,\n",
       "             'Action': 3500,\n",
       "             'Thriller': 3500,\n",
       "             'Crime': 3500,\n",
       "             'Adventure': 3500,\n",
       "             'Drama': 3500,\n",
       "             'Sci-Fi': 3500,\n",
       "             'Horror': 3500,\n",
       "             'Romance': 3500})"
      ]
     },
     "execution_count": 77,
     "metadata": {},
     "output_type": "execute_result"
    }
   ],
   "source": [
    "temp"
   ]
  },
  {
   "cell_type": "code",
   "execution_count": 80,
   "id": "f602ebe5",
   "metadata": {},
   "outputs": [],
   "source": [
    "df = pd.read_csv(\"imdb_cleaned.csv\", encoding = \"'ISO-8859-1'\")\n",
    "df['genres']= df['genres'].apply(lambda x: x.split(\"|\"))"
   ]
  },
  {
   "cell_type": "code",
   "execution_count": 84,
   "id": "77acc4e0",
   "metadata": {},
   "outputs": [],
   "source": [
    "df = df[~df['genres'].apply(lambda x: 'Drama' in x)]\n"
   ]
  },
  {
   "cell_type": "code",
   "execution_count": 83,
   "id": "1bbbc8e0",
   "metadata": {},
   "outputs": [
    {
     "data": {
      "text/plain": [
       "list"
      ]
     },
     "execution_count": 83,
     "metadata": {},
     "output_type": "execute_result"
    }
   ],
   "source": [
    "type(df['genres'][0])"
   ]
  },
  {
   "cell_type": "code",
   "execution_count": 91,
   "id": "8af74f5d",
   "metadata": {},
   "outputs": [
    {
     "data": {
      "text/plain": [
       "35420"
      ]
     },
     "execution_count": 91,
     "metadata": {},
     "output_type": "execute_result"
    }
   ],
   "source": [
    "len(df[df['genres'].apply(lambda x: \"Sci-Fi\" in x)])"
   ]
  },
  {
   "cell_type": "code",
   "execution_count": null,
   "id": "3ae7c783",
   "metadata": {},
   "outputs": [],
   "source": []
  }
 ],
 "metadata": {
  "kernelspec": {
   "display_name": "cuda_torch",
   "language": "python",
   "name": "python3"
  },
  "language_info": {
   "codemirror_mode": {
    "name": "ipython",
    "version": 3
   },
   "file_extension": ".py",
   "mimetype": "text/x-python",
   "name": "python",
   "nbconvert_exporter": "python",
   "pygments_lexer": "ipython3",
   "version": "3.9.21"
  }
 },
 "nbformat": 4,
 "nbformat_minor": 5
}
